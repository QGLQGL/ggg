{
  "cells": [
    {
      "cell_type": "code",
      "execution_count": 1,
      "metadata": {},
      "outputs": [
        {
          "name": "stdout",
          "output_type": "stream",
          "text": "w\nC:\\Users\\Administrator\\AppData\\Roaming\\Python\\Python36\\site-packages\\bs4\\__init__.py:191: UserWarning: You provided Unicode markup but also provided a value for from_encoding. Your from_encoding will be ignored.\n  warnings.warn(\"You provided Unicode markup but also provided a value for from_encoding. Your from_encoding will be ignored.\")\n"
        }
      ],
      "source": [
        "import requests as r\n",
        "ad=r.get('http://www.tianqihoubao.com/lishi/guilin/month/201910.html')\n",
        "from bs4 import BeautifulSoup\n",
        "soup = BeautifulSoup(ad.text, 'html.parser', from_encoding='utf-8')\n",
        "lili=soup.find_all('div',class_=\"months\")\n",
        "print('w')"
      ]
    },
    {
      "cell_type": "code",
      "execution_count": 2,
      "metadata": {},
      "outputs": [
        {
          "name": "stdout",
          "output_type": "stream",
          "text": "['/lishi/guilin/month/201910.html', '/lishi/guilin/month/201909.html', '/lishi/guilin/month/201908.html', '/lishi/guilin/month/201907.html', '/lishi/guilin/month/201906.html', '/lishi/guilin/month/201905.html', '/lishi/guilin/month/201904.html', '/lishi/guilin/month/201903.html', '/lishi/guilin/month/201902.html', '/lishi/guilin/month/201901.html', '/lishi/guilin/month/201812.html', '/lishi/guilin/month/201811.html', '/lishi/guilin/month/201810.html', '/lishi/guilin/month/201809.html', '/lishi/guilin/month/201808.html', '/lishi/guilin/month/201807.html', '/lishi/guilin/month/201806.html', '/lishi/guilin/month/201805.html', '/lishi/guilin/month/201804.html', '/lishi/guilin/month/201803.html', '/lishi/guilin/month/201802.html', '/lishi/guilin/month/201801.html', '/lishi/guilin/month/201712.html', '/lishi/guilin/month/201711.html', '/lishi/guilin/month/201710.html', '/lishi/guilin/month/201709.html', '/lishi/guilin/month/201708.html', '/lishi/guilin/month/201707.html', '/lishi/guilin/month/201706.html', '/lishi/guilin/month/201705.html', '/lishi/guilin/month/201704.html', '/lishi/guilin/month/201703.html', '/lishi/guilin/month/201702.html', '/lishi/guilin/month/201701.html', '/lishi/guilin/month/201612.html', '/lishi/guilin/month/201611.html', '/lishi/guilin/month/201610.html', '/lishi/guilin/month/201609.html', '/lishi/guilin/month/201608.html', '/lishi/guilin/month/201607.html', '/lishi/guilin/month/201606.html', '/lishi/guilin/month/201605.html', '/lishi/guilin/month/201604.html', '/lishi/guilin/month/201603.html', '/lishi/guilin/month/201602.html', '/lishi/guilin/month/201601.html', '/lishi/guilin/month/201512.html', '/lishi/guilin/month/201511.html', '/lishi/guilin/month/201510.html', '/lishi/guilin/month/201509.html', '/lishi/guilin/month/201508.html', '/lishi/guilin/month/201507.html', '/lishi/guilin/month/201506.html', '/lishi/guilin/month/201505.html', '/lishi/guilin/month/201504.html', '/lishi/guilin/month/201503.html', '/lishi/guilin/month/201502.html', '/lishi/guilin/month/201501.html', '/lishi/guilin/month/201412.html', '/lishi/guilin/month/201411.html', '/lishi/guilin/month/201410.html', '/lishi/guilin/month/201409.html', '/lishi/guilin/month/201408.html', '/lishi/guilin/month/201407.html', '/lishi/guilin/month/201406.html', '/lishi/guilin/month/201405.html', '/lishi/guilin/month/201404.html', '/lishi/guilin/month/201403.html', '/lishi/guilin/month/201402.html', '/lishi/guilin/month/201401.html', '/lishi/guilin/month/201312.html', '/lishi/guilin/month/201311.html', '/lishi/guilin/month/201310.html', '/lishi/guilin/month/201309.html', '/lishi/guilin/month/201308.html', '/lishi/guilin/month/201307.html', '/lishi/guilin/month/201306.html', '/lishi/guilin/month/201305.html', '/lishi/guilin/month/201304.html', '/lishi/guilin/month/201303.html', '/lishi/guilin/month/201302.html', '/lishi/guilin/month/201301.html', '/lishi/guilin/month/201212.html', '/lishi/guilin/month/201211.html', '/lishi/guilin/month/201210.html', '/lishi/guilin/month/201209.html', '/lishi/guilin/month/201208.html', '/lishi/guilin/month/201207.html', '/lishi/guilin/month/201206.html', '/lishi/guilin/month/201205.html', '/lishi/guilin/month/201204.html', '/lishi/guilin/month/201203.html', '/lishi/guilin/month/201202.html', '/lishi/guilin/month/201201.html', '/lishi/guilin/month/201112.html', '/lishi/guilin/month/201111.html', '/lishi/guilin/month/201110.html', '/lishi/guilin/month/201109.html', '/lishi/guilin/month/201108.html', '/lishi/guilin/month/201107.html', '/lishi/guilin/month/201106.html', '/lishi/guilin/month/201105.html', '/lishi/guilin/month/201104.html', '/lishi/guilin/month/201103.html', '/lishi/guilin/month/201102.html', '/lishi/guilin/month/201101.html']\n"
        }
      ],
      "source": [
        "soups = BeautifulSoup(lili.__str__(), 'html.parser', from_encoding='utf-8')\n",
        "lili=soups.find_all('a')\n",
        "lis =list()\n",
        "for y in lili:\n",
        "    lis.append(y.get('href'))\n",
        "print(lis)\n"
      ]
    },
    {
      "cell_type": "code",
      "execution_count": 3,
      "metadata": {},
      "outputs": [
        {
          "ename": "ImportError",
          "evalue": "lxml not found, please install it",
          "output_type": "error",
          "traceback": [
            "\u001b[1;31m---------------------------------------------------------------------------\u001b[0m",
            "\u001b[1;31mImportError\u001b[0m                               Traceback (most recent call last)",
            "\u001b[1;32m<ipython-input-3-a24416b5e636>\u001b[0m in \u001b[0;36m<module>\u001b[1;34m\u001b[0m\n\u001b[0;32m      3\u001b[0m     \u001b[0murl\u001b[0m \u001b[1;33m=\u001b[0m\u001b[1;34m'http://www.tianqihoubao.com'\u001b[0m\u001b[1;33m+\u001b[0m\u001b[0mtt\u001b[0m\u001b[1;33m\u001b[0m\u001b[1;33m\u001b[0m\u001b[0m\n\u001b[0;32m      4\u001b[0m     \u001b[0ma\u001b[0m\u001b[1;33m=\u001b[0m\u001b[0mr\u001b[0m\u001b[1;33m.\u001b[0m\u001b[0mget\u001b[0m\u001b[1;33m(\u001b[0m\u001b[0murl\u001b[0m\u001b[1;33m)\u001b[0m\u001b[1;33m\u001b[0m\u001b[1;33m\u001b[0m\u001b[0m\n\u001b[1;32m----> 5\u001b[1;33m     \u001b[0mtb\u001b[0m \u001b[1;33m=\u001b[0m \u001b[0mpd\u001b[0m\u001b[1;33m.\u001b[0m\u001b[0mread_html\u001b[0m\u001b[1;33m(\u001b[0m\u001b[0ma\u001b[0m\u001b[1;33m.\u001b[0m\u001b[0mtext\u001b[0m\u001b[1;33m)\u001b[0m\u001b[1;33m[\u001b[0m\u001b[1;36m0\u001b[0m\u001b[1;33m]\u001b[0m\u001b[1;33m\u001b[0m\u001b[1;33m\u001b[0m\u001b[0m\n\u001b[0m\u001b[0;32m      6\u001b[0m     \u001b[0mprint\u001b[0m\u001b[1;33m(\u001b[0m\u001b[0mtb\u001b[0m\u001b[1;33m)\u001b[0m\u001b[1;33m\u001b[0m\u001b[1;33m\u001b[0m\u001b[0m\n",
            "\u001b[1;32mh:\\ProgramData\\Anaconda3\\envs\\tensorflow2.0\\lib\\site-packages\\pandas\\io\\html.py\u001b[0m in \u001b[0;36mread_html\u001b[1;34m(io, match, flavor, header, index_col, skiprows, attrs, parse_dates, thousands, encoding, decimal, converters, na_values, keep_default_na, displayed_only)\u001b[0m\n\u001b[0;32m   1103\u001b[0m         \u001b[0mna_values\u001b[0m\u001b[1;33m=\u001b[0m\u001b[0mna_values\u001b[0m\u001b[1;33m,\u001b[0m\u001b[1;33m\u001b[0m\u001b[1;33m\u001b[0m\u001b[0m\n\u001b[0;32m   1104\u001b[0m         \u001b[0mkeep_default_na\u001b[0m\u001b[1;33m=\u001b[0m\u001b[0mkeep_default_na\u001b[0m\u001b[1;33m,\u001b[0m\u001b[1;33m\u001b[0m\u001b[1;33m\u001b[0m\u001b[0m\n\u001b[1;32m-> 1105\u001b[1;33m         \u001b[0mdisplayed_only\u001b[0m\u001b[1;33m=\u001b[0m\u001b[0mdisplayed_only\u001b[0m\u001b[1;33m,\u001b[0m\u001b[1;33m\u001b[0m\u001b[1;33m\u001b[0m\u001b[0m\n\u001b[0m\u001b[0;32m   1106\u001b[0m     )\n",
            "\u001b[1;32mh:\\ProgramData\\Anaconda3\\envs\\tensorflow2.0\\lib\\site-packages\\pandas\\io\\html.py\u001b[0m in \u001b[0;36m_parse\u001b[1;34m(flavor, io, match, attrs, encoding, displayed_only, **kwargs)\u001b[0m\n\u001b[0;32m    886\u001b[0m     \u001b[0mretained\u001b[0m \u001b[1;33m=\u001b[0m \u001b[1;32mNone\u001b[0m\u001b[1;33m\u001b[0m\u001b[1;33m\u001b[0m\u001b[0m\n\u001b[0;32m    887\u001b[0m     \u001b[1;32mfor\u001b[0m \u001b[0mflav\u001b[0m \u001b[1;32min\u001b[0m \u001b[0mflavor\u001b[0m\u001b[1;33m:\u001b[0m\u001b[1;33m\u001b[0m\u001b[1;33m\u001b[0m\u001b[0m\n\u001b[1;32m--> 888\u001b[1;33m         \u001b[0mparser\u001b[0m \u001b[1;33m=\u001b[0m \u001b[0m_parser_dispatch\u001b[0m\u001b[1;33m(\u001b[0m\u001b[0mflav\u001b[0m\u001b[1;33m)\u001b[0m\u001b[1;33m\u001b[0m\u001b[1;33m\u001b[0m\u001b[0m\n\u001b[0m\u001b[0;32m    889\u001b[0m         \u001b[0mp\u001b[0m \u001b[1;33m=\u001b[0m \u001b[0mparser\u001b[0m\u001b[1;33m(\u001b[0m\u001b[0mio\u001b[0m\u001b[1;33m,\u001b[0m \u001b[0mcompiled_match\u001b[0m\u001b[1;33m,\u001b[0m \u001b[0mattrs\u001b[0m\u001b[1;33m,\u001b[0m \u001b[0mencoding\u001b[0m\u001b[1;33m,\u001b[0m \u001b[0mdisplayed_only\u001b[0m\u001b[1;33m)\u001b[0m\u001b[1;33m\u001b[0m\u001b[1;33m\u001b[0m\u001b[0m\n\u001b[0;32m    890\u001b[0m \u001b[1;33m\u001b[0m\u001b[0m\n",
            "\u001b[1;32mh:\\ProgramData\\Anaconda3\\envs\\tensorflow2.0\\lib\\site-packages\\pandas\\io\\html.py\u001b[0m in \u001b[0;36m_parser_dispatch\u001b[1;34m(flavor)\u001b[0m\n\u001b[0;32m    841\u001b[0m     \u001b[1;32melse\u001b[0m\u001b[1;33m:\u001b[0m\u001b[1;33m\u001b[0m\u001b[1;33m\u001b[0m\u001b[0m\n\u001b[0;32m    842\u001b[0m         \u001b[1;32mif\u001b[0m \u001b[1;32mnot\u001b[0m \u001b[0m_HAS_LXML\u001b[0m\u001b[1;33m:\u001b[0m\u001b[1;33m\u001b[0m\u001b[1;33m\u001b[0m\u001b[0m\n\u001b[1;32m--> 843\u001b[1;33m             \u001b[1;32mraise\u001b[0m \u001b[0mImportError\u001b[0m\u001b[1;33m(\u001b[0m\u001b[1;34m\"lxml not found, please install it\"\u001b[0m\u001b[1;33m)\u001b[0m\u001b[1;33m\u001b[0m\u001b[1;33m\u001b[0m\u001b[0m\n\u001b[0m\u001b[0;32m    844\u001b[0m     \u001b[1;32mreturn\u001b[0m \u001b[0m_valid_parsers\u001b[0m\u001b[1;33m[\u001b[0m\u001b[0mflavor\u001b[0m\u001b[1;33m]\u001b[0m\u001b[1;33m\u001b[0m\u001b[1;33m\u001b[0m\u001b[0m\n\u001b[0;32m    845\u001b[0m \u001b[1;33m\u001b[0m\u001b[0m\n",
            "\u001b[1;31mImportError\u001b[0m: lxml not found, please install it"
          ]
        }
      ],
      "source": [
        "import pandas as pd\n",
        "for tt in lis:\n",
        "    url ='http://www.tianqihoubao.com'+tt\n",
        "    a=r.get(url)\n",
        "    tb = pd.read_html(a.text)[0]\n",
        "    print(tb)\n"
      ]
    },
    {
      "cell_type": "code",
      "execution_count": null,
      "metadata": {},
      "outputs": [],
      "source": []
    }
  ],
  "metadata": {
    "kernelspec": {
      "display_name": "Python 3",
      "language": "python",
      "name": "python3"
    },
    "language_info": {
      "codemirror_mode": {
        "name": "ipython",
        "version": 2
      },
      "file_extension": ".py",
      "mimetype": "text/x-python",
      "name": "python",
      "nbconvert_exporter": "python",
      "pygments_lexer": "ipython2",
      "version": "2.7.6"
    },
    "pycharm": {
      "stem_cell": {
        "cell_type": "raw",
        "source": [],
        "metadata": {
          "collapsed": false
        }
      }
    }
  },
  "nbformat": 4,
  "nbformat_minor": 0
}